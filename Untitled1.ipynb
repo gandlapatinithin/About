{
 "cells": [
  {
   "cell_type": "code",
   "execution_count": 1,
   "metadata": {},
   "outputs": [
    {
     "ename": "IndentationError",
     "evalue": "expected an indented block (<ipython-input-1-aa2dc177de97>, line 4)",
     "output_type": "error",
     "traceback": [
      "\u001b[1;36m  File \u001b[1;32m\"<ipython-input-1-aa2dc177de97>\"\u001b[1;36m, line \u001b[1;32m4\u001b[0m\n\u001b[1;33m    if char.isupper():\u001b[0m\n\u001b[1;37m    ^\u001b[0m\n\u001b[1;31mIndentationError\u001b[0m\u001b[1;31m:\u001b[0m expected an indented block\n"
     ]
    }
   ],
   "source": [
    "def encrypt(text, s):\n",
    " result = \"\"\n",
    " for char in text:\n",
    " if char.isupper():\n",
    " result += chr((ord(char) + s - 65) % 26 + 65)\n",
    " elif char.islower():\n",
    " result += chr((ord(char) + s - 97) % 26 + 97)\n",
    " else:\n",
    " result += char # Leave non-alphabetic characters unchanged\n",
    " return result\n",
    "def decrypt(cipher_text, s):\n",
    " result = \"\"\n",
    " for char in cipher_text:\n",
    " if char.isupper():\n",
    " result += chr((ord(char) - s - 65) % 26 + 65)\n",
    " elif char.islower():\n",
    " result += chr((ord(char) - s - 97) % 26 + 97)\n",
    " else:\n",
    " result += char # Leave non-alphabetic characters unchanged\n",
    " return result\n",
    "text = \"cyber security department\"\n",
    "s = 1\n",
    "# Encrypt the text\n",
    "cipher = encrypt(text, s)\n",
    "print(\"Text: \" + text)\n",
    "print(\"Shift: \" + str(s))\n",
    "print(\"Cipher: \" + cipher)\n",
    "# Decrypt the text\n",
    "decrypted_text = decrypt(cipher, s)\n",
    "print(\"Decrypted Text: \" + decrypted_text)\n"
   ]
  },
  {
   "cell_type": "code",
   "execution_count": null,
   "metadata": {},
   "outputs": [],
   "source": []
  }
 ],
 "metadata": {
  "kernelspec": {
   "display_name": "Python 3",
   "language": "python",
   "name": "python3"
  },
  "language_info": {
   "codemirror_mode": {
    "name": "ipython",
    "version": 3
   },
   "file_extension": ".py",
   "mimetype": "text/x-python",
   "name": "python",
   "nbconvert_exporter": "python",
   "pygments_lexer": "ipython3",
   "version": "3.8.5"
  }
 },
 "nbformat": 4,
 "nbformat_minor": 4
}
